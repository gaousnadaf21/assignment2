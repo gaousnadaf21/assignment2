{
 "cells": [
  {
   "cell_type": "markdown",
   "id": "c8b09f24-5382-4263-8ea3-a3dabd5ff9a2",
   "metadata": {},
   "source": [
    "#calculate the sum,difference ,product and quotient of two numbers"
   ]
  },
  {
   "cell_type": "code",
   "execution_count": 1,
   "id": "00e591b8-d2a8-42b7-aea4-605714ee3f5c",
   "metadata": {},
   "outputs": [
    {
     "name": "stdin",
     "output_type": "stream",
     "text": [
      "Enter the first number:  11\n",
      "Enter the second number:  22\n"
     ]
    }
   ],
   "source": [
    "number1 = int(input(\"Enter the first number: \"))\n",
    "number2 = int(input(\"Enter the second number: \"))"
   ]
  },
  {
   "cell_type": "code",
   "execution_count": 2,
   "id": "a95a957b-5491-4468-a06e-ca3dcb704efe",
   "metadata": {},
   "outputs": [],
   "source": [
    "sum_result = (number1 + number2)"
   ]
  },
  {
   "cell_type": "code",
   "execution_count": 4,
   "id": "e984d062-be1b-4ead-bc6f-7e171859aad8",
   "metadata": {},
   "outputs": [
    {
     "data": {
      "text/plain": [
       "33"
      ]
     },
     "execution_count": 4,
     "metadata": {},
     "output_type": "execute_result"
    }
   ],
   "source": [
    "sum_result"
   ]
  },
  {
   "cell_type": "code",
   "execution_count": 5,
   "id": "b95732e6-20c2-4162-ba50-f05514737c05",
   "metadata": {},
   "outputs": [],
   "source": [
    "difference_result = (number1 - number2)"
   ]
  },
  {
   "cell_type": "code",
   "execution_count": 6,
   "id": "3c0c62fd-18e2-4f61-9eb8-7ef9abe0f801",
   "metadata": {},
   "outputs": [
    {
     "data": {
      "text/plain": [
       "-11"
      ]
     },
     "execution_count": 6,
     "metadata": {},
     "output_type": "execute_result"
    }
   ],
   "source": [
    "difference_result"
   ]
  },
  {
   "cell_type": "code",
   "execution_count": 7,
   "id": "ae9e2652-9054-4213-98b2-465b4077284b",
   "metadata": {},
   "outputs": [],
   "source": [
    "product_result = (number1 * number2)"
   ]
  },
  {
   "cell_type": "code",
   "execution_count": 8,
   "id": "15de2c13-7de0-4ec2-ba1d-3cdebaa67ef9",
   "metadata": {},
   "outputs": [
    {
     "data": {
      "text/plain": [
       "242"
      ]
     },
     "execution_count": 8,
     "metadata": {},
     "output_type": "execute_result"
    }
   ],
   "source": [
    "product_result"
   ]
  },
  {
   "cell_type": "code",
   "execution_count": 9,
   "id": "09ec9c07-3ea1-4f8b-9d97-dec6c6e575c0",
   "metadata": {},
   "outputs": [],
   "source": [
    "quotient_result = (number1 / number2)"
   ]
  },
  {
   "cell_type": "code",
   "execution_count": 11,
   "id": "e60b163b-b0e0-4752-9018-68b907c43863",
   "metadata": {},
   "outputs": [
    {
     "data": {
      "text/plain": [
       "0.5"
      ]
     },
     "execution_count": 11,
     "metadata": {},
     "output_type": "execute_result"
    }
   ],
   "source": [
    "quotient_result"
   ]
  },
  {
   "cell_type": "markdown",
   "id": "d27c3ab8-d716-4c0e-b13c-133c56479cee",
   "metadata": {},
   "source": [
    "#Perform various assignment operations on a variable\n"
   ]
  },
  {
   "cell_type": "code",
   "execution_count": 13,
   "id": "c63a8c5c-104c-450a-929f-85577ce61951",
   "metadata": {},
   "outputs": [],
   "source": [
    "a = 3\n",
    "b = 5\n",
    "c = a + b"
   ]
  },
  {
   "cell_type": "code",
   "execution_count": 15,
   "id": "aac4c4af-b1b4-44a5-a1b9-291efd06e00e",
   "metadata": {},
   "outputs": [
    {
     "name": "stdout",
     "output_type": "stream",
     "text": [
      "8\n"
     ]
    }
   ],
   "source": [
    "print(c)"
   ]
  },
  {
   "cell_type": "code",
   "execution_count": 16,
   "id": "cddc1bad-3c64-4fcd-a79a-a7078a78ddb2",
   "metadata": {},
   "outputs": [
    {
     "name": "stdout",
     "output_type": "stream",
     "text": [
      "8\n"
     ]
    }
   ],
   "source": [
    "a = 3\n",
    "b = 5\n",
    "a += b\n",
    "print(a)"
   ]
  },
  {
   "cell_type": "code",
   "execution_count": 17,
   "id": "c15a396d-d746-4b17-ab76-dcfabcf674f4",
   "metadata": {},
   "outputs": [
    {
     "name": "stdout",
     "output_type": "stream",
     "text": [
      "-2\n"
     ]
    }
   ],
   "source": [
    "a = 3\n",
    "b = 5\n",
    "a -= b\n",
    "print(a)"
   ]
  },
  {
   "cell_type": "code",
   "execution_count": 18,
   "id": "623cd765-8d8b-403a-b578-9314b6d989c5",
   "metadata": {},
   "outputs": [
    {
     "name": "stdout",
     "output_type": "stream",
     "text": [
      "15\n"
     ]
    }
   ],
   "source": [
    "a = 3\n",
    "b = 5\n",
    "a *= b\n",
    "print(a)"
   ]
  },
  {
   "cell_type": "code",
   "execution_count": 19,
   "id": "29f543bf-adcb-4386-8ef7-1975eddd51fa",
   "metadata": {},
   "outputs": [
    {
     "name": "stdout",
     "output_type": "stream",
     "text": [
      "0.6\n"
     ]
    }
   ],
   "source": [
    "a = 3\n",
    "b = 5\n",
    "a /= b\n",
    "print(a)"
   ]
  },
  {
   "cell_type": "code",
   "execution_count": 20,
   "id": "894d4c8f-1a70-49e0-813e-2317b0c15893",
   "metadata": {},
   "outputs": [
    {
     "name": "stdout",
     "output_type": "stream",
     "text": [
      "1\n"
     ]
    }
   ],
   "source": [
    "a = 10\n",
    "b = 3\n",
    "a %= b\n",
    "print(a)"
   ]
  },
  {
   "cell_type": "markdown",
   "id": "e2dd8b0b-90e9-4452-b25d-7db5a4863d97",
   "metadata": {},
   "source": [
    "#Compare two numbers and print the results"
   ]
  },
  {
   "cell_type": "code",
   "execution_count": 21,
   "id": "2958f973-bb7f-4aba-9ce7-e980cbc44fc1",
   "metadata": {},
   "outputs": [
    {
     "name": "stdin",
     "output_type": "stream",
     "text": [
      "Enter the first number:  11\n",
      "Enter the second number:  22\n"
     ]
    }
   ],
   "source": [
    "number1 = float(input(\"Enter the first number: \"))\n",
    "number2 = float(input(\"Enter the second number: \"))\n"
   ]
  },
  {
   "cell_type": "code",
   "execution_count": 22,
   "id": "e8c2a186-3b1b-45b7-8e84-0dca02d96c9d",
   "metadata": {},
   "outputs": [
    {
     "name": "stdout",
     "output_type": "stream",
     "text": [
      "Your inputs are not equal\n"
     ]
    }
   ],
   "source": [
    "if number1 == number2:\n",
    "    print(\"Both inputs are equal\")\n",
    "else:\n",
    "    print(\"Your inputs are not equal\")"
   ]
  },
  {
   "cell_type": "markdown",
   "id": "8ba3614a-5c8f-4f21-b93e-d38d763d0194",
   "metadata": {},
   "source": [
    "#Check conditions using logical operators"
   ]
  },
  {
   "cell_type": "code",
   "execution_count": 25,
   "id": "b549b889-1573-4fac-ac49-eed90d27d724",
   "metadata": {},
   "outputs": [
    {
     "name": "stdout",
     "output_type": "stream",
     "text": [
      "Both numbers are positive\n"
     ]
    }
   ],
   "source": [
    "a = 10\n",
    "b = 5\n",
    "if a > 0 and b > 0:\n",
    "    print(\"Both numbers are positive\")\n",
    "else:\n",
    "    print(\"At least one number is not positive\")"
   ]
  },
  {
   "cell_type": "markdown",
   "id": "0b2068f9-120d-48fe-9fc0-49a417ca5aaf",
   "metadata": {},
   "source": [
    "#Check the identity of variables"
   ]
  },
  {
   "cell_type": "code",
   "execution_count": 31,
   "id": "feacbaf5-7b8c-493f-85f9-7bc91c4d909d",
   "metadata": {},
   "outputs": [
    {
     "name": "stdout",
     "output_type": "stream",
     "text": [
      "True\n"
     ]
    }
   ],
   "source": [
    "a = \"hello\"\n",
    "b = \"world\"\n",
    "print(a is not b)"
   ]
  },
  {
   "cell_type": "code",
   "execution_count": null,
   "id": "ca3b88c3-a1e9-48b2-9e12-ef7ca18004f2",
   "metadata": {},
   "outputs": [],
   "source": [
    "x = [1, 2, 3]\n",
    "y = x  \n",
    "print(x is y)"
   ]
  },
  {
   "cell_type": "markdown",
   "id": "ece100a0-b090-41ea-8bb5-166b2013195a",
   "metadata": {},
   "source": [
    "#Perform bitwise operations on any two integers\n"
   ]
  },
  {
   "cell_type": "code",
   "execution_count": null,
   "id": "63371b4a-65df-444a-a1e7-8677719e9d0f",
   "metadata": {},
   "outputs": [],
   "source": [
    "positive = 123\n",
    "binary = bin(positive)\n",
    "print(binary)  "
   ]
  },
  {
   "cell_type": "code",
   "execution_count": null,
   "id": "5aaafff0-03a3-42d0-bfa6-cd86a6f8d461",
   "metadata": {},
   "outputs": [],
   "source": [
    "print(binary)"
   ]
  },
  {
   "cell_type": "code",
   "execution_count": null,
   "id": "d921d7ee-18ce-447e-abb9-828117755964",
   "metadata": {},
   "outputs": [],
   "source": []
  },
  {
   "cell_type": "code",
   "execution_count": null,
   "id": "a344e8df-9576-40e2-98c2-7e7be4f9ffc6",
   "metadata": {},
   "outputs": [],
   "source": []
  },
  {
   "cell_type": "code",
   "execution_count": null,
   "id": "8ec77132-0a52-4c79-b64d-3c40fc3eea2f",
   "metadata": {},
   "outputs": [],
   "source": []
  },
  {
   "cell_type": "code",
   "execution_count": null,
   "id": "f18f987a-e433-460e-bbd7-3a34d57b41f9",
   "metadata": {},
   "outputs": [],
   "source": []
  },
  {
   "cell_type": "code",
   "execution_count": null,
   "id": "744c262c-87ab-4be3-ace7-574506e9849d",
   "metadata": {},
   "outputs": [],
   "source": []
  }
 ],
 "metadata": {
  "kernelspec": {
   "display_name": "Python 3 (ipykernel)",
   "language": "python",
   "name": "python3"
  },
  "language_info": {
   "codemirror_mode": {
    "name": "ipython",
    "version": 3
   },
   "file_extension": ".py",
   "mimetype": "text/x-python",
   "name": "python",
   "nbconvert_exporter": "python",
   "pygments_lexer": "ipython3",
   "version": "3.10.8"
  }
 },
 "nbformat": 4,
 "nbformat_minor": 5
}
